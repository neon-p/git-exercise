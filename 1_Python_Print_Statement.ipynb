{
 "cells": [
  {
   "cell_type": "markdown",
   "id": "111b44ac",
   "metadata": {
    "id": "111b44ac"
   },
   "source": [
    "# Print Statement"
   ]
  },
  {
   "cell_type": "code",
   "execution_count": null,
   "id": "368f7958",
   "metadata": {
    "id": "368f7958"
   },
   "outputs": [],
   "source": [
    "print(\"Hello World\")"
   ]
  },
  {
   "cell_type": "code",
   "execution_count": null,
   "id": "a3096f5d",
   "metadata": {
    "id": "a3096f5d"
   },
   "outputs": [],
   "source": [
    "print(\"Hello\\nWorld\") # new line character"
   ]
  },
  {
   "cell_type": "code",
   "execution_count": null,
   "id": "c0e151ba",
   "metadata": {
    "id": "c0e151ba"
   },
   "outputs": [],
   "source": [
    "print(\"Hello\\tWorld\") # horizontal tab"
   ]
  },
  {
   "cell_type": "code",
   "execution_count": 1,
   "id": "e2925fe6",
   "metadata": {
    "colab": {
     "base_uri": "https://localhost:8080/"
    },
    "id": "e2925fe6",
    "outputId": "9634c64b-2d46-4e55-d21b-0a98cad7c823"
   },
   "outputs": [
    {
     "name": "stdout",
     "output_type": "stream",
     "text": [
      "\"Hello\"\n"
     ]
    }
   ],
   "source": [
    "print(\"\\\"Hello\\\"\")"
   ]
  },
  {
   "cell_type": "code",
   "execution_count": 3,
   "id": "2d6eda53",
   "metadata": {
    "colab": {
     "base_uri": "https://localhost:8080/"
    },
    "id": "2d6eda53",
    "outputId": "79177b63-03fe-4813-dff5-2591ae82571c"
   },
   "outputs": [
    {
     "name": "stdout",
     "output_type": "stream",
     "text": [
      "\\Hello\\\n"
     ]
    }
   ],
   "source": [
    "print(\"\\\\Hello\\\\\")"
   ]
  },
  {
   "cell_type": "markdown",
   "id": "6cd88fd3",
   "metadata": {
    "id": "6cd88fd3"
   },
   "source": [
    "# Questions\n",
    "\n",
    "**Print the following output**"
   ]
  },
  {
   "cell_type": "code",
   "execution_count": null,
   "id": "2a2c3e4c",
   "metadata": {
    "colab": {
     "base_uri": "https://localhost:8080/"
    },
    "id": "2a2c3e4c",
    "outputId": "ff610504-0c48-4c08-da87-b3bdbaaa8982"
   },
   "outputs": [
    {
     "name": "stdout",
     "output_type": "stream",
     "text": [
      "Himanshu\n",
      "\\Patel\n",
      "\t\tSaskpolytech\n"
     ]
    }
   ],
   "source": [
    "print(\"Himanshu\\n\\Patel\\n\\t\\tSaskpolytech\")"
   ]
  },
  {
   "cell_type": "code",
   "execution_count": 2,
   "id": "81f38efd",
   "metadata": {
    "id": "81f38efd"
   },
   "outputs": [
    {
     "name": "stdout",
     "output_type": "stream",
     "text": [
      "*\n",
      "**\n",
      "***\n"
     ]
    }
   ],
   "source": [
    "print(\"*\\n**\\n***\")"
   ]
  },
  {
   "cell_type": "code",
   "execution_count": 3,
   "id": "e2b43488",
   "metadata": {
    "id": "e2b43488"
   },
   "outputs": [
    {
     "name": "stdout",
     "output_type": "stream",
     "text": [
      "    *\n",
      "*\t*\n",
      "    *\n"
     ]
    }
   ],
   "source": [
    "print(\"    *\\n*\\t*\\n    *\")"
   ]
  },
  {
   "cell_type": "code",
   "execution_count": 4,
   "id": "txNIBd-T62gM",
   "metadata": {
    "colab": {
     "base_uri": "https://localhost:8080/"
    },
    "id": "txNIBd-T62gM",
    "outputId": "d0035848-fa33-4605-e952-a6e92b3fa784"
   },
   "outputs": [
    {
     "name": "stdout",
     "output_type": "stream",
     "text": [
      "Hello Python Crash Course world!\n"
     ]
    }
   ],
   "source": [
    "message = \"Hello Python Crash Course world!\"\n",
    "print(message)"
   ]
  },
  {
   "cell_type": "code",
   "execution_count": null,
   "id": "2x87Rap-7CoM",
   "metadata": {
    "id": "2x87Rap-7CoM"
   },
   "outputs": [],
   "source": []
  }
 ],
 "metadata": {
  "colab": {
   "provenance": []
  },
  "kernelspec": {
   "display_name": "Python 3 (ipykernel)",
   "language": "python",
   "name": "python3"
  },
  "language_info": {
   "codemirror_mode": {
    "name": "ipython",
    "version": 3
   },
   "file_extension": ".py",
   "mimetype": "text/x-python",
   "name": "python",
   "nbconvert_exporter": "python",
   "pygments_lexer": "ipython3",
   "version": "3.10.12"
  }
 },
 "nbformat": 4,
 "nbformat_minor": 5
}
